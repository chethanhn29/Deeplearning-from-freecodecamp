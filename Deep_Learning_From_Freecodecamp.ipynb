{
  "nbformat": 4,
  "nbformat_minor": 0,
  "metadata": {
    "colab": {
      "provenance": [],
      "collapsed_sections": [],
      "authorship_tag": "ABX9TyN31MJnbkzwZ1NLcbr+JF+Q",
      "include_colab_link": true
    },
    "kernelspec": {
      "name": "python3",
      "display_name": "Python 3"
    },
    "language_info": {
      "name": "python"
    }
  },
  "cells": [
    {
      "cell_type": "markdown",
      "metadata": {
        "id": "view-in-github",
        "colab_type": "text"
      },
      "source": [
        "<a href=\"https://colab.research.google.com/github/chethanhn29/Deeplearning-from-freecodecamp/blob/main/Deep_Learning_From_Freecodecamp.ipynb\" target=\"_parent\"><img src=\"https://colab.research.google.com/assets/colab-badge.svg\" alt=\"Open In Colab\"/></a>"
      ]
    },
    {
      "cell_type": "markdown",
      "source": [
        "Deep Learning-Neural Systems-Resources\n",
        "\n",
        "\n",
        "https://www.learnpytorch.io/\n",
        "\n",
        "\n",
        "\n",
        "https://github.com/mrdbourke/pytorch-deep-learning"
      ],
      "metadata": {
        "id": "-edsONlxkktT"
      }
    },
    {
      "cell_type": "markdown",
      "source": [],
      "metadata": {
        "id": "sqU2onztklzl"
      }
    },
    {
      "cell_type": "code",
      "source": [],
      "metadata": {
        "id": "EYKxxSMAlO-R"
      },
      "execution_count": null,
      "outputs": []
    }
  ]
}